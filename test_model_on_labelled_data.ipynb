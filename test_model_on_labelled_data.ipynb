{
 "cells": [
  {
   "cell_type": "code",
   "execution_count": 1,
   "id": "6e4fbf5b",
   "metadata": {},
   "outputs": [
    {
     "name": "stderr",
     "output_type": "stream",
     "text": [
      "comet_ml is installed but `COMET_API_KEY` is not set.\n"
     ]
    }
   ],
   "source": [
    "import pandas as pd\n",
    "from transformers import AutoModelForSequenceClassification, Trainer, TrainingArguments, AutoConfig, AutoTokenizer"
   ]
  },
  {
   "cell_type": "code",
   "execution_count": 2,
   "id": "71065170",
   "metadata": {},
   "outputs": [],
   "source": [
    "df = pd.read_csv(\"final_data_BACKUP (4).csv\")"
   ]
  },
  {
   "cell_type": "code",
   "execution_count": 3,
   "id": "f1e178d5",
   "metadata": {},
   "outputs": [],
   "source": [
    "df = df[['feedback_text', 'feedback_date', 'feedback_platform', 'tags']]"
   ]
  },
  {
   "cell_type": "code",
   "execution_count": 4,
   "id": "eed868b0",
   "metadata": {},
   "outputs": [
    {
     "data": {
      "text/html": [
       "<div>\n",
       "<style scoped>\n",
       "    .dataframe tbody tr th:only-of-type {\n",
       "        vertical-align: middle;\n",
       "    }\n",
       "\n",
       "    .dataframe tbody tr th {\n",
       "        vertical-align: top;\n",
       "    }\n",
       "\n",
       "    .dataframe thead th {\n",
       "        text-align: right;\n",
       "    }\n",
       "</style>\n",
       "<table border=\"1\" class=\"dataframe\">\n",
       "  <thead>\n",
       "    <tr style=\"text-align: right;\">\n",
       "      <th></th>\n",
       "      <th>feedback_text</th>\n",
       "      <th>feedback_date</th>\n",
       "      <th>feedback_platform</th>\n",
       "      <th>tags</th>\n",
       "    </tr>\n",
       "  </thead>\n",
       "  <tbody>\n",
       "    <tr>\n",
       "      <th>0</th>\n",
       "      <td>Must have app!. My MUST have app!!! My favorit...</td>\n",
       "      <td>2020-09-06 18:01:30+00:00</td>\n",
       "      <td>Apple App Store</td>\n",
       "      <td>Requirements irrelevant</td>\n",
       "    </tr>\n",
       "    <tr>\n",
       "      <th>1</th>\n",
       "      <td>Spotify review. I lt is the best music app I h...</td>\n",
       "      <td>2020-09-11 20:47:30+00:00</td>\n",
       "      <td>Apple App Store</td>\n",
       "      <td>Requirements irrelevant</td>\n",
       "    </tr>\n",
       "    <tr>\n",
       "      <th>2</th>\n",
       "      <td>Gaona music. I like Gaona music so much.</td>\n",
       "      <td>2020-09-11 20:51:19+00:00</td>\n",
       "      <td>Apple App Store</td>\n",
       "      <td>Requirements irrelevant</td>\n",
       "    </tr>\n",
       "    <tr>\n",
       "      <th>3</th>\n",
       "      <td>Spotify.. Fantastic app for old &amp; brand new wo...</td>\n",
       "      <td>2020-09-08 08:03:31+00:00</td>\n",
       "      <td>Apple App Store</td>\n",
       "      <td>Requirements irrelevant</td>\n",
       "    </tr>\n",
       "    <tr>\n",
       "      <th>4</th>\n",
       "      <td>Can’t see lyrics. Don’t know why, iPad doesn’t...</td>\n",
       "      <td>2020-09-10 17:20:43+00:00</td>\n",
       "      <td>Apple App Store</td>\n",
       "      <td>Unexpected behaviour (View lyrics)</td>\n",
       "    </tr>\n",
       "  </tbody>\n",
       "</table>\n",
       "</div>"
      ],
      "text/plain": [
       "                                       feedback_text  \\\n",
       "0  Must have app!. My MUST have app!!! My favorit...   \n",
       "1  Spotify review. I lt is the best music app I h...   \n",
       "2           Gaona music. I like Gaona music so much.   \n",
       "3  Spotify.. Fantastic app for old & brand new wo...   \n",
       "4  Can’t see lyrics. Don’t know why, iPad doesn’t...   \n",
       "\n",
       "               feedback_date feedback_platform  \\\n",
       "0  2020-09-06 18:01:30+00:00   Apple App Store   \n",
       "1  2020-09-11 20:47:30+00:00   Apple App Store   \n",
       "2  2020-09-11 20:51:19+00:00   Apple App Store   \n",
       "3  2020-09-08 08:03:31+00:00   Apple App Store   \n",
       "4  2020-09-10 17:20:43+00:00   Apple App Store   \n",
       "\n",
       "                                 tags  \n",
       "0             Requirements irrelevant  \n",
       "1             Requirements irrelevant  \n",
       "2             Requirements irrelevant  \n",
       "3             Requirements irrelevant  \n",
       "4  Unexpected behaviour (View lyrics)  "
      ]
     },
     "execution_count": 4,
     "metadata": {},
     "output_type": "execute_result"
    }
   ],
   "source": [
    "df.head()"
   ]
  },
  {
   "cell_type": "code",
   "execution_count": 5,
   "id": "4f334643",
   "metadata": {},
   "outputs": [],
   "source": [
    "df[\"is_irrel\"] = df.tags.str.lower().str.contains(\"requirements irrelevant\")\n",
    "df[\"is_rel\"] = ~df[\"is_irrel\"]"
   ]
  },
  {
   "cell_type": "code",
   "execution_count": 6,
   "id": "a0c737cb",
   "metadata": {},
   "outputs": [],
   "source": [
    "label_granularity = \"requirements_relevance\"\n",
    "model_name = \"distilbert-base-uncased\"\n",
    "label_granularity = \"requirements_relevance\"\n",
    "is_multiclass = not (label_granularity == \"requirements_relevance\")\n",
    "problem_type = \"multi_label_classification\" if is_multiclass else \"single_label_classification\""
   ]
  },
  {
   "cell_type": "code",
   "execution_count": 12,
   "id": "30c04928",
   "metadata": {},
   "outputs": [],
   "source": [
    "label_order = [\"irrelevant\", \"relevant\"]"
   ]
  },
  {
   "cell_type": "code",
   "execution_count": null,
   "id": "ae4cc0cd",
   "metadata": {},
   "outputs": [],
   "source": []
  },
  {
   "cell_type": "code",
   "execution_count": 13,
   "id": "be9345ea",
   "metadata": {},
   "outputs": [],
   "source": [
    "from dataset_preparation import FeedbackDataset\n",
    "import numpy as np\n",
    "tokenizer = AutoTokenizer.from_pretrained(model_name)\n",
    "tokenized_text = tokenizer(text = df.feedback_text.tolist(), padding=True, truncation=True, max_length=256, return_tensors=\"np\")\n",
    "dataset = FeedbackDataset(tokenized_text, np.argmax(df[[\"is_irrel\", \"is_rel\"]].values, axis=1), is_multiclass=False)"
   ]
  },
  {
   "cell_type": "code",
   "execution_count": 16,
   "id": "b2bc1182",
   "metadata": {},
   "outputs": [],
   "source": [
    "from transformers import AutoModelForSequenceClassification, Trainer, TrainingArguments, AutoConfig, AutoTokenizer\n",
    "import torch\n",
    "from sklearn.metrics import brier_score_loss, accuracy_score, precision_recall_fscore_support, ndcg_score, roc_auc_score\n",
    "\n",
    "def get_aprf1(labels, pred_label):\n",
    "    precision, recall, f1, _ = precision_recall_fscore_support(labels, pred_label, average='binary', zero_division=0)\n",
    "    acc = accuracy_score(labels, pred_label)\n",
    "    return {\n",
    "        'accuracy': acc,\n",
    "        'f1': f1,\n",
    "        'precision': precision,\n",
    "        'recall': recall\n",
    "    }\n",
    "\n",
    "def get_cutoff_metrics(labels, preds, cutoff):\n",
    "    pred_label = preds > cutoff\n",
    "    metrics = get_aprf1(labels, pred_label)\n",
    "    return {f\"{k}_{cutoff}\": v for k, v in metrics.items()}\n",
    "\n",
    "def multiclass_compute_metrics(eval_pred):\n",
    "    \n",
    "    logits, labels = eval_pred\n",
    "    \n",
    "    sig = torch.nn.Sigmoid()\n",
    "    perc_preds = sig(torch.Tensor(logits)).numpy()\n",
    "    \n",
    "    results = {}\n",
    "    \n",
    "    num_pred_classes = logits.shape[1]\n",
    "    for class_num in range(num_pred_classes):\n",
    "        class_name = label_order[class_num]\n",
    "        \n",
    "        class_perc_preds = perc_preds[:, class_num]\n",
    "        class_labels = labels[:, class_num]\n",
    "\n",
    "        results[f\"{class_name}_roc_auc\"] = roc_auc_score(class_labels, class_perc_preds)\n",
    "        cutoff_metrics = get_cutoff_metrics(class_labels, class_perc_preds, 0.5)\n",
    "        cutoff_metrics = {f\"{class_name}_{k}\":v for k, v in cutoff_metrics.items()}\n",
    "        results.update(cutoff_metrics)\n",
    "    \n",
    "    return results\n",
    "\n",
    "def singleclass_compute_metrics(eval_pred):\n",
    "    \n",
    "    logits, labels = eval_pred\n",
    "    \n",
    "    predictions = np.argmax(logits, axis=-1)\n",
    "    results = get_aprf1(labels, predictions)\n",
    "\n",
    "    return results\n",
    "\n",
    "compute_metrics = multiclass_compute_metrics if is_multiclass else singleclass_compute_metrics\n",
    "\n",
    "training_args = TrainingArguments(\n",
    "    output_dir=f'./results_test_{label_granularity}',          # output directory\n",
    "    per_device_eval_batch_size=64,   # batch size for evaluation\n",
    "    logging_dir=f'./logs_test_{label_granularity}',            # directory for storing logs\n",
    "    fp16=True,\n",
    ")\n",
    "\n",
    "config = AutoConfig.from_pretrained(model_name, cache_dir=\"/mnt/Research/peter-research/peter_devine_nlp_models\")\n",
    "num_labels = 3 if label_granularity == \"bug_feature_other\" else 2\n",
    "config.num_labels = num_labels\n",
    "config.problem_type = problem_type\n",
    "model = AutoModelForSequenceClassification.from_config(config)\n",
    "model.load_state_dict(torch.load(\"/home/pdev438/projects/user_feedback_labeller/results_requirements_relevance/pytorch_model.bin\"))\n",
    "\n",
    "trainer = Trainer(\n",
    "    model=model,                         # the instantiated 🤗 Transformers model to be trained\n",
    "    args=training_args,                  # training arguments, defined above\n",
    "    train_dataset=dataset,         # training dataset\n",
    "    eval_dataset=dataset,             # evaluation dataset\n",
    "    compute_metrics=compute_metrics,\n",
    ")"
   ]
  },
  {
   "cell_type": "code",
   "execution_count": 17,
   "id": "8027af5d",
   "metadata": {},
   "outputs": [
    {
     "data": {
      "text/html": [
       "\n",
       "    <div>\n",
       "      \n",
       "      <progress value='9' max='4' style='width:300px; height:20px; vertical-align: middle;'></progress>\n",
       "      [4/4 00:49]\n",
       "    </div>\n",
       "    "
      ],
      "text/plain": [
       "<IPython.core.display.HTML object>"
      ]
     },
     "metadata": {},
     "output_type": "display_data"
    },
    {
     "data": {
      "text/plain": [
       "{'eval_loss': 0.5701955556869507,\n",
       " 'eval_accuracy': 0.69,\n",
       " 'eval_f1': 0.7113594040968343,\n",
       " 'eval_precision': 0.7764227642276422,\n",
       " 'eval_recall': 0.6563573883161512,\n",
       " 'eval_runtime': 0.431,\n",
       " 'eval_samples_per_second': 1160.013}"
      ]
     },
     "execution_count": 17,
     "metadata": {},
     "output_type": "execute_result"
    }
   ],
   "source": [
    "trainer.evaluate()"
   ]
  },
  {
   "cell_type": "code",
   "execution_count": 18,
   "id": "8f8f36d5",
   "metadata": {},
   "outputs": [
    {
     "name": "stderr",
     "output_type": "stream",
     "text": [
      "/home/pdev438/miniconda3/envs/jupyter_env/lib/python3.7/site-packages/torch/nn/parallel/_functions.py:65: UserWarning: Was asked to gather along dimension 0, but all input tensors were scalars; will instead unsqueeze and return a vector.\n",
      "  warnings.warn('Was asked to gather along dimension 0, but all '\n",
      "/home/pdev438/miniconda3/envs/jupyter_env/lib/python3.7/site-packages/torch/nn/parallel/_functions.py:65: UserWarning: Was asked to gather along dimension 0, but all input tensors were scalars; will instead unsqueeze and return a vector.\n",
      "  warnings.warn('Was asked to gather along dimension 0, but all '\n",
      "/home/pdev438/miniconda3/envs/jupyter_env/lib/python3.7/site-packages/torch/nn/parallel/_functions.py:65: UserWarning: Was asked to gather along dimension 0, but all input tensors were scalars; will instead unsqueeze and return a vector.\n",
      "  warnings.warn('Was asked to gather along dimension 0, but all '\n",
      "/home/pdev438/miniconda3/envs/jupyter_env/lib/python3.7/site-packages/torch/nn/parallel/_functions.py:65: UserWarning: Was asked to gather along dimension 0, but all input tensors were scalars; will instead unsqueeze and return a vector.\n",
      "  warnings.warn('Was asked to gather along dimension 0, but all '\n",
      "/home/pdev438/miniconda3/envs/jupyter_env/lib/python3.7/site-packages/torch/nn/parallel/_functions.py:65: UserWarning: Was asked to gather along dimension 0, but all input tensors were scalars; will instead unsqueeze and return a vector.\n",
      "  warnings.warn('Was asked to gather along dimension 0, but all '\n"
     ]
    }
   ],
   "source": [
    "platform_metrics = {}\n",
    "\n",
    "for platform_name in df.feedback_platform.unique():\n",
    "    platform_df = df[df.feedback_platform == platform_name]\n",
    "    \n",
    "    tokenized_text = tokenizer(text = platform_df.feedback_text.tolist(), padding=True, truncation=True, max_length=256, return_tensors=\"np\")\n",
    "    dataset = FeedbackDataset(tokenized_text, np.argmax(platform_df[[\"is_irrel\", \"is_rel\"]].values, axis=1), is_multiclass=False)\n",
    "    platform_metrics[platform_name] = trainer.predict(dataset).metrics"
   ]
  },
  {
   "cell_type": "code",
   "execution_count": 19,
   "id": "6b6a6643",
   "metadata": {},
   "outputs": [
    {
     "data": {
      "text/html": [
       "<div>\n",
       "<style scoped>\n",
       "    .dataframe tbody tr th:only-of-type {\n",
       "        vertical-align: middle;\n",
       "    }\n",
       "\n",
       "    .dataframe tbody tr th {\n",
       "        vertical-align: top;\n",
       "    }\n",
       "\n",
       "    .dataframe thead th {\n",
       "        text-align: right;\n",
       "    }\n",
       "</style>\n",
       "<table border=\"1\" class=\"dataframe\">\n",
       "  <thead>\n",
       "    <tr style=\"text-align: right;\">\n",
       "      <th></th>\n",
       "      <th>Apple App Store</th>\n",
       "      <th>Spotify forum</th>\n",
       "      <th>Google Play Store</th>\n",
       "      <th>Reddit</th>\n",
       "      <th>Twitter</th>\n",
       "    </tr>\n",
       "  </thead>\n",
       "  <tbody>\n",
       "    <tr>\n",
       "      <th>test_loss</th>\n",
       "      <td>0.504649</td>\n",
       "      <td>0.659293</td>\n",
       "      <td>0.339388</td>\n",
       "      <td>0.655921</td>\n",
       "      <td>0.691742</td>\n",
       "    </tr>\n",
       "    <tr>\n",
       "      <th>test_accuracy</th>\n",
       "      <td>0.720000</td>\n",
       "      <td>0.650000</td>\n",
       "      <td>0.830000</td>\n",
       "      <td>0.640000</td>\n",
       "      <td>0.610000</td>\n",
       "    </tr>\n",
       "    <tr>\n",
       "      <th>test_f1</th>\n",
       "      <td>0.658537</td>\n",
       "      <td>0.771242</td>\n",
       "      <td>0.721311</td>\n",
       "      <td>0.739130</td>\n",
       "      <td>0.621359</td>\n",
       "    </tr>\n",
       "    <tr>\n",
       "      <th>test_precision</th>\n",
       "      <td>0.729730</td>\n",
       "      <td>0.983333</td>\n",
       "      <td>0.814815</td>\n",
       "      <td>0.910714</td>\n",
       "      <td>0.484848</td>\n",
       "    </tr>\n",
       "    <tr>\n",
       "      <th>test_recall</th>\n",
       "      <td>0.600000</td>\n",
       "      <td>0.634409</td>\n",
       "      <td>0.647059</td>\n",
       "      <td>0.621951</td>\n",
       "      <td>0.864865</td>\n",
       "    </tr>\n",
       "    <tr>\n",
       "      <th>test_runtime</th>\n",
       "      <td>0.114100</td>\n",
       "      <td>0.089700</td>\n",
       "      <td>0.064900</td>\n",
       "      <td>0.088800</td>\n",
       "      <td>0.047300</td>\n",
       "    </tr>\n",
       "    <tr>\n",
       "      <th>test_samples_per_second</th>\n",
       "      <td>876.507000</td>\n",
       "      <td>1115.346000</td>\n",
       "      <td>1540.087000</td>\n",
       "      <td>1126.680000</td>\n",
       "      <td>2112.127000</td>\n",
       "    </tr>\n",
       "  </tbody>\n",
       "</table>\n",
       "</div>"
      ],
      "text/plain": [
       "                         Apple App Store  Spotify forum  Google Play Store  \\\n",
       "test_loss                       0.504649       0.659293           0.339388   \n",
       "test_accuracy                   0.720000       0.650000           0.830000   \n",
       "test_f1                         0.658537       0.771242           0.721311   \n",
       "test_precision                  0.729730       0.983333           0.814815   \n",
       "test_recall                     0.600000       0.634409           0.647059   \n",
       "test_runtime                    0.114100       0.089700           0.064900   \n",
       "test_samples_per_second       876.507000    1115.346000        1540.087000   \n",
       "\n",
       "                              Reddit      Twitter  \n",
       "test_loss                   0.655921     0.691742  \n",
       "test_accuracy               0.640000     0.610000  \n",
       "test_f1                     0.739130     0.621359  \n",
       "test_precision              0.910714     0.484848  \n",
       "test_recall                 0.621951     0.864865  \n",
       "test_runtime                0.088800     0.047300  \n",
       "test_samples_per_second  1126.680000  2112.127000  "
      ]
     },
     "execution_count": 19,
     "metadata": {},
     "output_type": "execute_result"
    }
   ],
   "source": [
    "pd.DataFrame(platform_metrics)"
   ]
  },
  {
   "cell_type": "code",
   "execution_count": 11,
   "id": "a4f32225",
   "metadata": {},
   "outputs": [
    {
     "data": {
      "text/plain": [
       "{'input_ids': tensor([[  101,  2190,  2189,  ...,     0,     0,     0],\n",
       "         [  101,  1045,  2293,  ...,     0,     0,     0],\n",
       "         [  101,  2190,  2377,  ...,     0,     0,     0],\n",
       "         ...,\n",
       "         [  101, 10439,  2562,  ...,     0,     0,     0],\n",
       "         [  101,  3115,  2028,  ...,     0,     0,     0],\n",
       "         [  101,  2006,  2026,  ...,     0,     0,     0]]),\n",
       " 'attention_mask': tensor([[1, 1, 1,  ..., 0, 0, 0],\n",
       "         [1, 1, 1,  ..., 0, 0, 0],\n",
       "         [1, 1, 1,  ..., 0, 0, 0],\n",
       "         ...,\n",
       "         [1, 1, 1,  ..., 0, 0, 0],\n",
       "         [1, 1, 1,  ..., 0, 0, 0],\n",
       "         [1, 1, 1,  ..., 0, 0, 0]]),\n",
       " 'labels': tensor([0, 0, 0, 0, 1, 1, 0, 1, 0, 1])}"
      ]
     },
     "execution_count": 11,
     "metadata": {},
     "output_type": "execute_result"
    }
   ],
   "source": [
    "dataset[100:110]"
   ]
  },
  {
   "cell_type": "code",
   "execution_count": null,
   "id": "e655728b",
   "metadata": {},
   "outputs": [],
   "source": []
  }
 ],
 "metadata": {
  "kernelspec": {
   "display_name": "Python 3",
   "language": "python",
   "name": "python3"
  },
  "language_info": {
   "codemirror_mode": {
    "name": "ipython",
    "version": 3
   },
   "file_extension": ".py",
   "mimetype": "text/x-python",
   "name": "python",
   "nbconvert_exporter": "python",
   "pygments_lexer": "ipython3",
   "version": "3.7.10"
  }
 },
 "nbformat": 4,
 "nbformat_minor": 5
}
