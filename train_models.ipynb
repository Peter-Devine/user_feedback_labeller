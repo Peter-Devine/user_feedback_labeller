{
 "cells": [
  {
   "cell_type": "code",
   "execution_count": 1,
   "id": "1902a715",
   "metadata": {},
   "outputs": [],
   "source": [
    "import comet_ml"
   ]
  },
  {
   "cell_type": "code",
   "execution_count": 2,
   "id": "8248c320",
   "metadata": {},
   "outputs": [],
   "source": [
    "import os\n",
    "os.environ[\"SENTENCE_TRANSFORMERS_HOME\"] = \"/mnt/Research/peter-research/peter_devine_nlp_models\"\n",
    "os.environ[\"PYTORCH_TRANSFORMERS_CACHE\"] = \"/mnt/Research/peter-research/peter_devine_nlp_models\"\n",
    "os.environ['COMET_API_KEY'] = \"cQ08Sxaq3jBSiwFrzNdIuOCv5\""
   ]
  },
  {
   "cell_type": "code",
   "execution_count": 3,
   "id": "0b209ce5",
   "metadata": {},
   "outputs": [],
   "source": [
    "from downloader import download_datasets\n",
    "from dataset_preparation import prepare_datasets"
   ]
  },
  {
   "cell_type": "code",
   "execution_count": 4,
   "id": "f8018ea0",
   "metadata": {},
   "outputs": [],
   "source": [
    "# 'chen_2014', 'ciurumelea_2017', 'di_sorbo_2016', 'guzman_2015', 'maalej_2016', 'scalabrino_2017', 'tizard_2019', 'williams_2017'\n",
    "\n",
    "dataset_list = ['chen_2014', 'ciurumelea_2017', 'di_sorbo_2016', 'guzman_2015', 'maalej_2016', 'scalabrino_2017', 'tizard_2019', 'williams_2017']\n",
    "\n",
    "dataset_list = ['di_sorbo_2016', 'guzman_2015', 'maalej_2016', 'scalabrino_2017', 'tizard_2019', 'williams_2017']\n",
    "label_granularity = \"bug_feature_other\"\n",
    "is_multiclass = not (label_granularity == \"requirements_relevance\")\n",
    "problem_type = \"multi_label_classification\" if is_multiclass else \"single_label_classification\"\n",
    "model_name = \"distilbert-base-uncased\""
   ]
  },
  {
   "cell_type": "code",
   "execution_count": 7,
   "id": "256237a3",
   "metadata": {},
   "outputs": [
    {
     "name": "stdout",
     "output_type": "stream",
     "text": [
      "Downloading di_sorbo_2016\n",
      "Downloading guzman_2015\n",
      "Downloading maalej_2016\n",
      "Downloading scalabrino_2017\n",
      "Downloading tizard_2019\n",
      "Downloading williams_2017\n"
     ]
    }
   ],
   "source": [
    "# download_datasets(dataset_list, label_granularity=label_granularity)"
   ]
  },
  {
   "cell_type": "code",
   "execution_count": 8,
   "id": "e59407b6",
   "metadata": {},
   "outputs": [
    {
     "name": "stdout",
     "output_type": "stream",
     "text": [
      "di_sorbo_2016\n",
      "guzman_2015\n",
      "maalej_2016\n",
      "scalabrino_2017\n",
      "tizard_2019\n",
      "williams_2017\n"
     ]
    }
   ],
   "source": [
    "train_dataset, val_dataset, test_dataset, label_order = prepare_datasets(dataset_list, label_granularity, model_name, is_multiclass)"
   ]
  },
  {
   "cell_type": "code",
   "execution_count": 9,
   "id": "44c6547c",
   "metadata": {},
   "outputs": [
    {
     "data": {
      "text/plain": [
       "['bug', 'feature', 'other']"
      ]
     },
     "execution_count": 9,
     "metadata": {},
     "output_type": "execute_result"
    }
   ],
   "source": [
    "label_order = list(label_order)\n",
    "label_order.remove(\"text\")\n",
    "label_order"
   ]
  },
  {
   "cell_type": "code",
   "execution_count": 10,
   "id": "1b6f504c",
   "metadata": {},
   "outputs": [
    {
     "name": "stderr",
     "output_type": "stream",
     "text": [
      "COMET WARNING: As you are running in a Jupyter environment, you will need to call `experiment.end()` when finished to ensure all metrics and code are logged before exiting.\n",
      "COMET INFO: Experiment is live on comet.ml https://www.comet.ml/peter-devine/huggingface/e02bc8a98f0a46888e667f9971a25330\n",
      "\n",
      "/home/pdev438/miniconda3/envs/jupyter_env/lib/python3.7/site-packages/torch/nn/parallel/_functions.py:65: UserWarning: Was asked to gather along dimension 0, but all input tensors were scalars; will instead unsqueeze and return a vector.\n",
      "  warnings.warn('Was asked to gather along dimension 0, but all '\n"
     ]
    },
    {
     "data": {
      "text/html": [
       "\n",
       "    <div>\n",
       "      \n",
       "      <progress value='750' max='750' style='width:300px; height:20px; vertical-align: middle;'></progress>\n",
       "      [750/750 02:14, Epoch 6/6]\n",
       "    </div>\n",
       "    <table border=\"1\" class=\"dataframe\">\n",
       "  <thead>\n",
       "    <tr style=\"text-align: left;\">\n",
       "      <th>Epoch</th>\n",
       "      <th>Training Loss</th>\n",
       "      <th>Validation Loss</th>\n",
       "      <th>Bug Roc Auc</th>\n",
       "      <th>Bug Accuracy 0.5</th>\n",
       "      <th>Bug F1 0.5</th>\n",
       "      <th>Bug Precision 0.5</th>\n",
       "      <th>Bug Recall 0.5</th>\n",
       "      <th>Feature Roc Auc</th>\n",
       "      <th>Feature Accuracy 0.5</th>\n",
       "      <th>Feature F1 0.5</th>\n",
       "      <th>Feature Precision 0.5</th>\n",
       "      <th>Feature Recall 0.5</th>\n",
       "      <th>Other Roc Auc</th>\n",
       "      <th>Other Accuracy 0.5</th>\n",
       "      <th>Other F1 0.5</th>\n",
       "      <th>Other Precision 0.5</th>\n",
       "      <th>Other Recall 0.5</th>\n",
       "    </tr>\n",
       "  </thead>\n",
       "  <tbody>\n",
       "    <tr>\n",
       "      <td>1</td>\n",
       "      <td>0.436400</td>\n",
       "      <td>0.405107</td>\n",
       "      <td>0.871533</td>\n",
       "      <td>0.840690</td>\n",
       "      <td>0.592980</td>\n",
       "      <td>0.690435</td>\n",
       "      <td>0.519634</td>\n",
       "      <td>0.790164</td>\n",
       "      <td>0.821690</td>\n",
       "      <td>0.237500</td>\n",
       "      <td>0.629139</td>\n",
       "      <td>0.146379</td>\n",
       "      <td>0.858486</td>\n",
       "      <td>0.780181</td>\n",
       "      <td>0.830935</td>\n",
       "      <td>0.834312</td>\n",
       "      <td>0.827586</td>\n",
       "    </tr>\n",
       "    <tr>\n",
       "      <td>2</td>\n",
       "      <td>0.333500</td>\n",
       "      <td>0.398590</td>\n",
       "      <td>0.909302</td>\n",
       "      <td>0.863490</td>\n",
       "      <td>0.656870</td>\n",
       "      <td>0.748744</td>\n",
       "      <td>0.585079</td>\n",
       "      <td>0.845490</td>\n",
       "      <td>0.843905</td>\n",
       "      <td>0.371765</td>\n",
       "      <td>0.786070</td>\n",
       "      <td>0.243451</td>\n",
       "      <td>0.877188</td>\n",
       "      <td>0.789535</td>\n",
       "      <td>0.849937</td>\n",
       "      <td>0.794932</td>\n",
       "      <td>0.913121</td>\n",
       "    </tr>\n",
       "    <tr>\n",
       "      <td>3</td>\n",
       "      <td>0.265700</td>\n",
       "      <td>0.366095</td>\n",
       "      <td>0.924498</td>\n",
       "      <td>0.871090</td>\n",
       "      <td>0.661030</td>\n",
       "      <td>0.800745</td>\n",
       "      <td>0.562827</td>\n",
       "      <td>0.858028</td>\n",
       "      <td>0.842736</td>\n",
       "      <td>0.568218</td>\n",
       "      <td>0.592965</td>\n",
       "      <td>0.545455</td>\n",
       "      <td>0.884861</td>\n",
       "      <td>0.799474</td>\n",
       "      <td>0.846875</td>\n",
       "      <td>0.844237</td>\n",
       "      <td>0.849530</td>\n",
       "    </tr>\n",
       "    <tr>\n",
       "      <td>4</td>\n",
       "      <td>0.231000</td>\n",
       "      <td>0.376468</td>\n",
       "      <td>0.925003</td>\n",
       "      <td>0.881906</td>\n",
       "      <td>0.704246</td>\n",
       "      <td>0.799003</td>\n",
       "      <td>0.629581</td>\n",
       "      <td>0.863300</td>\n",
       "      <td>0.839228</td>\n",
       "      <td>0.600291</td>\n",
       "      <td>0.568088</td>\n",
       "      <td>0.636364</td>\n",
       "      <td>0.883556</td>\n",
       "      <td>0.796551</td>\n",
       "      <td>0.846493</td>\n",
       "      <td>0.833985</td>\n",
       "      <td>0.859382</td>\n",
       "    </tr>\n",
       "    <tr>\n",
       "      <td>5</td>\n",
       "      <td>0.199100</td>\n",
       "      <td>0.394284</td>\n",
       "      <td>0.923603</td>\n",
       "      <td>0.875183</td>\n",
       "      <td>0.723266</td>\n",
       "      <td>0.716303</td>\n",
       "      <td>0.730366</td>\n",
       "      <td>0.858470</td>\n",
       "      <td>0.845075</td>\n",
       "      <td>0.578696</td>\n",
       "      <td>0.597701</td>\n",
       "      <td>0.560863</td>\n",
       "      <td>0.883792</td>\n",
       "      <td>0.802397</td>\n",
       "      <td>0.846851</td>\n",
       "      <td>0.856946</td>\n",
       "      <td>0.836991</td>\n",
       "    </tr>\n",
       "    <tr>\n",
       "      <td>6</td>\n",
       "      <td>0.177700</td>\n",
       "      <td>0.411081</td>\n",
       "      <td>0.922434</td>\n",
       "      <td>0.881029</td>\n",
       "      <td>0.719504</td>\n",
       "      <td>0.759825</td>\n",
       "      <td>0.683246</td>\n",
       "      <td>0.857836</td>\n",
       "      <td>0.841567</td>\n",
       "      <td>0.590015</td>\n",
       "      <td>0.579495</td>\n",
       "      <td>0.600924</td>\n",
       "      <td>0.884806</td>\n",
       "      <td>0.804151</td>\n",
       "      <td>0.849641</td>\n",
       "      <td>0.851552</td>\n",
       "      <td>0.847738</td>\n",
       "    </tr>\n",
       "  </tbody>\n",
       "</table><p>"
      ],
      "text/plain": [
       "<IPython.core.display.HTML object>"
      ]
     },
     "metadata": {},
     "output_type": "display_data"
    },
    {
     "name": "stderr",
     "output_type": "stream",
     "text": [
      "COMET WARNING: Empty mapping given to log_params({}); ignoring\n",
      "/home/pdev438/miniconda3/envs/jupyter_env/lib/python3.7/site-packages/torch/nn/parallel/_functions.py:65: UserWarning: Was asked to gather along dimension 0, but all input tensors were scalars; will instead unsqueeze and return a vector.\n",
      "  warnings.warn('Was asked to gather along dimension 0, but all '\n",
      "/home/pdev438/miniconda3/envs/jupyter_env/lib/python3.7/site-packages/torch/nn/parallel/_functions.py:65: UserWarning: Was asked to gather along dimension 0, but all input tensors were scalars; will instead unsqueeze and return a vector.\n",
      "  warnings.warn('Was asked to gather along dimension 0, but all '\n",
      "/home/pdev438/miniconda3/envs/jupyter_env/lib/python3.7/site-packages/torch/nn/parallel/_functions.py:65: UserWarning: Was asked to gather along dimension 0, but all input tensors were scalars; will instead unsqueeze and return a vector.\n",
      "  warnings.warn('Was asked to gather along dimension 0, but all '\n",
      "/home/pdev438/miniconda3/envs/jupyter_env/lib/python3.7/site-packages/torch/nn/parallel/_functions.py:65: UserWarning: Was asked to gather along dimension 0, but all input tensors were scalars; will instead unsqueeze and return a vector.\n",
      "  warnings.warn('Was asked to gather along dimension 0, but all '\n",
      "/home/pdev438/miniconda3/envs/jupyter_env/lib/python3.7/site-packages/torch/nn/parallel/_functions.py:65: UserWarning: Was asked to gather along dimension 0, but all input tensors were scalars; will instead unsqueeze and return a vector.\n",
      "  warnings.warn('Was asked to gather along dimension 0, but all '\n"
     ]
    }
   ],
   "source": [
    "from transformers import AutoModelForSequenceClassification, Trainer, TrainingArguments, AutoConfig\n",
    "import torch\n",
    "from sklearn.metrics import brier_score_loss, accuracy_score, precision_recall_fscore_support, ndcg_score, roc_auc_score\n",
    "import numpy as np\n",
    "\n",
    "def get_aprf1(labels, pred_label):\n",
    "    precision, recall, f1, _ = precision_recall_fscore_support(labels, pred_label, average='binary', zero_division=0)\n",
    "    acc = accuracy_score(labels, pred_label)\n",
    "    return {\n",
    "        'accuracy': acc,\n",
    "        'f1': f1,\n",
    "        'precision': precision,\n",
    "        'recall': recall\n",
    "    }\n",
    "\n",
    "def get_cutoff_metrics(labels, preds, cutoff):\n",
    "    pred_label = preds > cutoff\n",
    "    metrics = get_aprf1(labels, pred_label)\n",
    "    return {f\"{k}_{cutoff}\": v for k, v in metrics.items()}\n",
    "\n",
    "def compute_metrics(eval_pred):\n",
    "    \n",
    "    logits, labels = eval_pred\n",
    "    \n",
    "    results = {}\n",
    "    \n",
    "    if is_multiclass:\n",
    "        sig = torch.nn.Sigmoid()\n",
    "        perc_preds = sig(torch.Tensor(logits)).numpy()\n",
    "        num_pred_classes = logits.shape[1]\n",
    "        for class_num in range(num_pred_classes):\n",
    "            class_name = label_order[class_num]\n",
    "\n",
    "            class_perc_preds = perc_preds[:, class_num]\n",
    "            class_labels = labels[:, class_num]\n",
    "\n",
    "            results[f\"{class_name}_roc_auc\"] = roc_auc_score(class_labels, class_perc_preds)\n",
    "    #         for i in range(1,10):\n",
    "    #             cutoff_metrics = get_cutoff_metrics(class_labels, class_perc_preds, i / 10)\n",
    "    #             cutoff_metrics = {f\"{class_name}_{k}\":v for k, v in cutoff_metrics.items()}\n",
    "    #             results.update(cutoff_metrics)\n",
    "\n",
    "            cutoff_metrics = get_cutoff_metrics(class_labels, class_perc_preds, 0.5)\n",
    "            cutoff_metrics = {f\"{class_name}_{k}\":v for k, v in cutoff_metrics.items()}\n",
    "            results.update(cutoff_metrics)\n",
    "    else:\n",
    "        \n",
    "        predictions = np.argmax(logits, axis=-1)\n",
    "        results = get_aprf1(labels, predictions)\n",
    "        \n",
    "    return results\n",
    "\n",
    "training_args = TrainingArguments(\n",
    "    output_dir=f'./results_{label_granularity}',          # output directory\n",
    "    num_train_epochs=6,              # total number of training epochs\n",
    "    per_device_train_batch_size=32,  # batch size per device during training\n",
    "    per_device_eval_batch_size=64,   # batch size for evaluation\n",
    "    evaluation_strategy=\"epoch\",\n",
    "    warmup_steps=0,                # number of warmup steps for learning rate scheduler\n",
    "    weight_decay=0.01,               # strength of weight decay\n",
    "    logging_dir=f'./logs_{label_granularity}',            # directory for storing logs\n",
    "    metric_for_best_model=\"loss\",\n",
    "    logging_steps=10,\n",
    "    greater_is_better=False,\n",
    "    load_best_model_at_end=True,\n",
    "    fp16=True,\n",
    ")\n",
    "\n",
    "config = AutoConfig.from_pretrained(model_name, cache_dir=\"/mnt/Research/peter-research/peter_devine_nlp_models\")\n",
    "num_labels = 3 if label_granularity == \"bug_feature_other\" else 2\n",
    "config.num_labels = num_labels\n",
    "config.problem_type = problem_type\n",
    "model = AutoModelForSequenceClassification.from_config(config)\n",
    "\n",
    "trainer = Trainer(\n",
    "    model=model,                         # the instantiated 🤗 Transformers model to be trained\n",
    "    args=training_args,                  # training arguments, defined above\n",
    "    train_dataset=train_dataset,         # training dataset\n",
    "    eval_dataset=val_dataset,             # evaluation dataset\n",
    "    compute_metrics=compute_metrics,\n",
    ")\n",
    "\n",
    "trainer.train()\n",
    "trainer.save_model()"
   ]
  },
  {
   "cell_type": "code",
   "execution_count": 9,
   "id": "7231cdf6",
   "metadata": {},
   "outputs": [
    {
     "data": {
      "text/plain": [
       "dict_keys(['chen_2014', 'ciurumelea_2017', 'di_sorbo_2016', 'guzman_2015', 'maalej_2016', 'scalabrino_2017', 'tizard_2019', 'williams_2017'])"
      ]
     },
     "execution_count": 9,
     "metadata": {},
     "output_type": "execute_result"
    }
   ],
   "source": [
    "from dataset_downloaders.label_mappings import relevance_dataset_mappings\n",
    "\n",
    "relevance_dataset_mappings.keys()"
   ]
  },
  {
   "cell_type": "code",
   "execution_count": 12,
   "id": "01d75318",
   "metadata": {},
   "outputs": [],
   "source": [
    "import pandas as pd\n",
    "import numpy as np"
   ]
  },
  {
   "cell_type": "code",
   "execution_count": 14,
   "id": "d0bf6d5e",
   "metadata": {},
   "outputs": [
    {
     "data": {
      "text/plain": [
       "array([1, 0, 1, ..., 0, 0, 1])"
      ]
     },
     "execution_count": 14,
     "metadata": {},
     "output_type": "execute_result"
    }
   ],
   "source": [
    "np.argmax(pd.read_csv(os.path.join(\"./data\", f\"guzman_2015_requirements_relevance.csv\")).drop(\"text\", axis=1).values, axis=1)"
   ]
  },
  {
   "cell_type": "code",
   "execution_count": null,
   "id": "26d0a564",
   "metadata": {},
   "outputs": [],
   "source": []
  }
 ],
 "metadata": {
  "kernelspec": {
   "display_name": "Python 3",
   "language": "python",
   "name": "python3"
  },
  "language_info": {
   "codemirror_mode": {
    "name": "ipython",
    "version": 3
   },
   "file_extension": ".py",
   "mimetype": "text/x-python",
   "name": "python",
   "nbconvert_exporter": "python",
   "pygments_lexer": "ipython3",
   "version": "3.7.10"
  }
 },
 "nbformat": 4,
 "nbformat_minor": 5
}
