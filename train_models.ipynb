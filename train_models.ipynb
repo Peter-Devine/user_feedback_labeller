{
 "cells": [
  {
   "cell_type": "code",
   "execution_count": 1,
   "id": "0b209ce5",
   "metadata": {},
   "outputs": [],
   "source": [
    "from downloader import download_datasets\n",
    "from dataset_preparation import prepare_datasets"
   ]
  },
  {
   "cell_type": "code",
   "execution_count": 2,
   "id": "f8018ea0",
   "metadata": {},
   "outputs": [],
   "source": [
    "dataset_list = [\"guzman_2015\", \"maalej_2016\", \"williams_2017\"]\n",
    "training_type = \"requirements_relevance\"\n",
    "model_name = \"distilbert-base-uncased\""
   ]
  },
  {
   "cell_type": "code",
   "execution_count": 3,
   "id": "256237a3",
   "metadata": {},
   "outputs": [
    {
     "name": "stdout",
     "output_type": "stream",
     "text": [
      "Downloading guzman_2015\n",
      "Downloading maalej_2016\n",
      "Downloading williams_2017\n"
     ]
    }
   ],
   "source": [
    "download_datasets(dataset_list, training_type)"
   ]
  },
  {
   "cell_type": "code",
   "execution_count": 3,
   "id": "e59407b6",
   "metadata": {},
   "outputs": [],
   "source": [
    "train_dataset, val_dataset, test_dataset, label_order = prepare_datasets(dataset_list, training_type, model_name)"
   ]
  },
  {
   "cell_type": "code",
   "execution_count": 4,
   "id": "d8bbf623",
   "metadata": {},
   "outputs": [
    {
     "data": {
      "text/plain": [
       "Index(['irrelevant', 'relevant', 'text'], dtype='object')"
      ]
     },
     "execution_count": 4,
     "metadata": {},
     "output_type": "execute_result"
    }
   ],
   "source": [
    "label_order"
   ]
  },
  {
   "cell_type": "code",
   "execution_count": null,
   "id": "1b6f504c",
   "metadata": {},
   "outputs": [],
   "source": [
    "from transformers import AutoModelForSequenceClassification, Trainer, TrainingArguments\n",
    "\n",
    "training_args = TrainingArguments(\n",
    "    output_dir='./results',          # output directory\n",
    "    num_train_epochs=3,              # total number of training epochs\n",
    "    per_device_train_batch_size=16,  # batch size per device during training\n",
    "    per_device_eval_batch_size=64,   # batch size for evaluation\n",
    "    warmup_steps=500,                # number of warmup steps for learning rate scheduler\n",
    "    weight_decay=0.01,               # strength of weight decay\n",
    "    logging_dir='./logs',            # directory for storing logs\n",
    "    logging_steps=10,\n",
    ")\n",
    "\n",
    "model = AutoModelForSequenceClassification.from_pretrained(model_name)\n",
    "\n",
    "trainer = Trainer(\n",
    "    model=model,                         # the instantiated 🤗 Transformers model to be trained\n",
    "    args=training_args,                  # training arguments, defined above\n",
    "    train_dataset=train_dataset,         # training dataset\n",
    "    eval_dataset=val_dataset             # evaluation dataset\n",
    ")\n",
    "\n",
    "trainer.train()"
   ]
  }
 ],
 "metadata": {
  "kernelspec": {
   "display_name": "Python 3",
   "language": "python",
   "name": "python3"
  },
  "language_info": {
   "codemirror_mode": {
    "name": "ipython",
    "version": 3
   },
   "file_extension": ".py",
   "mimetype": "text/x-python",
   "name": "python",
   "nbconvert_exporter": "python",
   "pygments_lexer": "ipython3",
   "version": "3.7.10"
  }
 },
 "nbformat": 4,
 "nbformat_minor": 5
}
